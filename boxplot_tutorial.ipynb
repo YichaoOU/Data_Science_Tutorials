{
 "cells": [
  {
   "cell_type": "markdown",
   "metadata": {},
   "source": [
    "# import Library"
   ]
  },
  {
   "cell_type": "code",
   "execution_count": 2,
   "metadata": {
    "collapsed": true
   },
   "outputs": [],
   "source": [
    "import pandas as pd # dataframe\n",
    "import seaborn as sns # for visualization\n",
    "import matplotlib.pyplot as plt # for visualization\n",
    "%matplotlib inline # for jupyter notebook to show the figures"
   ]
  },
  {
   "cell_type": "markdown",
   "metadata": {},
   "source": [
    "# read csv file and use the first column as index"
   ]
  },
  {
   "cell_type": "code",
   "execution_count": 28,
   "metadata": {
    "collapsed": true
   },
   "outputs": [],
   "source": [
    "df = pd.read_csv(\"LTC_selected_features.csv\",index_col=0)"
   ]
  },
  {
   "cell_type": "code",
   "execution_count": 29,
   "metadata": {},
   "outputs": [
    {
     "data": {
      "text/html": [
       "<div>\n",
       "<style>\n",
       "    .dataframe thead tr:only-child th {\n",
       "        text-align: right;\n",
       "    }\n",
       "\n",
       "    .dataframe thead th {\n",
       "        text-align: left;\n",
       "    }\n",
       "\n",
       "    .dataframe tbody tr th {\n",
       "        vertical-align: top;\n",
       "    }\n",
       "</style>\n",
       "<table border=\"1\" class=\"dataframe\">\n",
       "  <thead>\n",
       "    <tr style=\"text-align: right;\">\n",
       "      <th></th>\n",
       "      <th>Peptide_27</th>\n",
       "      <th>Fasting_plasma_glucose_(mmol/l)</th>\n",
       "      <th>HbA1c</th>\n",
       "      <th>Fasting_plasma_insulin_(pmol/l)</th>\n",
       "      <th>C-Peptide_(nmol/l)</th>\n",
       "      <th>HOMA-IR</th>\n",
       "      <th>Free_fatty_acids_(mmol/l)</th>\n",
       "      <th>Class</th>\n",
       "    </tr>\n",
       "    <tr>\n",
       "      <th>SampleID</th>\n",
       "      <th></th>\n",
       "      <th></th>\n",
       "      <th></th>\n",
       "      <th></th>\n",
       "      <th></th>\n",
       "      <th></th>\n",
       "      <th></th>\n",
       "      <th></th>\n",
       "    </tr>\n",
       "  </thead>\n",
       "  <tbody>\n",
       "    <tr>\n",
       "      <th>3</th>\n",
       "      <td>10.42</td>\n",
       "      <td>4.73</td>\n",
       "      <td>6.5</td>\n",
       "      <td>121.4</td>\n",
       "      <td>1.63</td>\n",
       "      <td>3.7</td>\n",
       "      <td>1.03</td>\n",
       "      <td>1</td>\n",
       "    </tr>\n",
       "    <tr>\n",
       "      <th>5</th>\n",
       "      <td>102.86</td>\n",
       "      <td>7.16</td>\n",
       "      <td>7.6</td>\n",
       "      <td>226.0</td>\n",
       "      <td>1.11</td>\n",
       "      <td>10.4</td>\n",
       "      <td>0.98</td>\n",
       "      <td>1</td>\n",
       "    </tr>\n",
       "    <tr>\n",
       "      <th>6</th>\n",
       "      <td>9.84</td>\n",
       "      <td>5.06</td>\n",
       "      <td>4.9</td>\n",
       "      <td>39.7</td>\n",
       "      <td>0.75</td>\n",
       "      <td>1.3</td>\n",
       "      <td>0.35</td>\n",
       "      <td>0</td>\n",
       "    </tr>\n",
       "    <tr>\n",
       "      <th>7</th>\n",
       "      <td>41.03</td>\n",
       "      <td>5.35</td>\n",
       "      <td>6.3</td>\n",
       "      <td>203.3</td>\n",
       "      <td>2.02</td>\n",
       "      <td>7.0</td>\n",
       "      <td>1.17</td>\n",
       "      <td>1</td>\n",
       "    </tr>\n",
       "    <tr>\n",
       "      <th>8</th>\n",
       "      <td>12.30</td>\n",
       "      <td>5.37</td>\n",
       "      <td>5.6</td>\n",
       "      <td>50.8</td>\n",
       "      <td>1.19</td>\n",
       "      <td>1.7</td>\n",
       "      <td>0.32</td>\n",
       "      <td>0</td>\n",
       "    </tr>\n",
       "  </tbody>\n",
       "</table>\n",
       "</div>"
      ],
      "text/plain": [
       "          Peptide_27  Fasting_plasma_glucose_(mmol/l)  HbA1c  \\\n",
       "SampleID                                                       \n",
       "3              10.42                             4.73    6.5   \n",
       "5             102.86                             7.16    7.6   \n",
       "6               9.84                             5.06    4.9   \n",
       "7              41.03                             5.35    6.3   \n",
       "8              12.30                             5.37    5.6   \n",
       "\n",
       "          Fasting_plasma_insulin_(pmol/l)  C-Peptide_(nmol/l)  HOMA-IR  \\\n",
       "SampleID                                                                 \n",
       "3                                   121.4                1.63      3.7   \n",
       "5                                   226.0                1.11     10.4   \n",
       "6                                    39.7                0.75      1.3   \n",
       "7                                   203.3                2.02      7.0   \n",
       "8                                    50.8                1.19      1.7   \n",
       "\n",
       "          Free_fatty_acids_(mmol/l)  Class  \n",
       "SampleID                                    \n",
       "3                              1.03      1  \n",
       "5                              0.98      1  \n",
       "6                              0.35      0  \n",
       "7                              1.17      1  \n",
       "8                              0.32      0  "
      ]
     },
     "execution_count": 29,
     "metadata": {},
     "output_type": "execute_result"
    }
   ],
   "source": [
    "df.head()"
   ]
  },
  {
   "cell_type": "markdown",
   "metadata": {},
   "source": [
    "# Above is the pandas DataFrame structure, you need to be very familiar about it"
   ]
  },
  {
   "cell_type": "markdown",
   "metadata": {},
   "source": [
    "# Example of usage shown below"
   ]
  },
  {
   "cell_type": "code",
   "execution_count": 30,
   "metadata": {},
   "outputs": [
    {
     "data": {
      "text/plain": [
       "10.42"
      ]
     },
     "execution_count": 30,
     "metadata": {},
     "output_type": "execute_result"
    }
   ],
   "source": [
    "df.at[3,'Peptide_27'] # access a number"
   ]
  },
  {
   "cell_type": "code",
   "execution_count": 31,
   "metadata": {
    "scrolled": false
   },
   "outputs": [
    {
     "data": {
      "text/plain": [
       "Peptide_27                          10.42\n",
       "Fasting_plasma_glucose_(mmol/l)      4.73\n",
       "HbA1c                                6.50\n",
       "Fasting_plasma_insulin_(pmol/l)    121.40\n",
       "C-Peptide_(nmol/l)                   1.63\n",
       "HOMA-IR                              3.70\n",
       "Free_fatty_acids_(mmol/l)            1.03\n",
       "Class                                1.00\n",
       "Name: 3, dtype: float64"
      ]
     },
     "execution_count": 31,
     "metadata": {},
     "output_type": "execute_result"
    }
   ],
   "source": [
    "df.loc[3] # selecting a row"
   ]
  },
  {
   "cell_type": "code",
   "execution_count": 32,
   "metadata": {
    "scrolled": true
   },
   "outputs": [
    {
     "data": {
      "text/plain": [
       "SampleID\n",
       "3       10.42\n",
       "5      102.86\n",
       "6        9.84\n",
       "7       41.03\n",
       "8       12.30\n",
       "9        7.93\n",
       "10      25.75\n",
       "11      50.73\n",
       "12      12.33\n",
       "13      27.82\n",
       "14      79.75\n",
       "15      32.91\n",
       "16      61.47\n",
       "17      32.85\n",
       "18      77.79\n",
       "19      14.51\n",
       "20      63.48\n",
       "21      76.33\n",
       "22       7.89\n",
       "23      53.11\n",
       "24      33.81\n",
       "25      17.82\n",
       "26      32.75\n",
       "27      15.63\n",
       "28      41.24\n",
       "29      12.81\n",
       "30      64.15\n",
       "31      24.83\n",
       "32      52.38\n",
       "33      57.91\n",
       "        ...  \n",
       "70      27.96\n",
       "71      25.79\n",
       "72      12.73\n",
       "73      46.41\n",
       "74      31.48\n",
       "75      99.34\n",
       "76      61.31\n",
       "77      14.05\n",
       "78      48.31\n",
       "79      23.41\n",
       "80      30.74\n",
       "81      62.07\n",
       "82      18.59\n",
       "83      13.86\n",
       "84      16.91\n",
       "85      20.30\n",
       "86      39.20\n",
       "87      15.87\n",
       "88      35.83\n",
       "89      56.46\n",
       "90      74.14\n",
       "91      28.77\n",
       "92      11.74\n",
       "93      18.06\n",
       "94      10.75\n",
       "96       7.58\n",
       "97      19.24\n",
       "98      20.19\n",
       "99      17.75\n",
       "100     26.92\n",
       "Name: Peptide_27, Length: 96, dtype: float64"
      ]
     },
     "execution_count": 32,
     "metadata": {},
     "output_type": "execute_result"
    }
   ],
   "source": [
    "df['Peptide_27'] # selecting a column"
   ]
  },
  {
   "cell_type": "code",
   "execution_count": 33,
   "metadata": {
    "collapsed": true
   },
   "outputs": [],
   "source": [
    "df_norm = df/df.max()"
   ]
  },
  {
   "cell_type": "code",
   "execution_count": 41,
   "metadata": {},
   "outputs": [
    {
     "data": {
      "text/html": [
       "<div>\n",
       "<style>\n",
       "    .dataframe thead tr:only-child th {\n",
       "        text-align: right;\n",
       "    }\n",
       "\n",
       "    .dataframe thead th {\n",
       "        text-align: left;\n",
       "    }\n",
       "\n",
       "    .dataframe tbody tr th {\n",
       "        vertical-align: top;\n",
       "    }\n",
       "</style>\n",
       "<table border=\"1\" class=\"dataframe\">\n",
       "  <thead>\n",
       "    <tr style=\"text-align: right;\">\n",
       "      <th></th>\n",
       "      <th>variable</th>\n",
       "      <th>value</th>\n",
       "      <th>class</th>\n",
       "    </tr>\n",
       "  </thead>\n",
       "  <tbody>\n",
       "    <tr>\n",
       "      <th>0</th>\n",
       "      <td>Peptide_27</td>\n",
       "      <td>0.085856</td>\n",
       "      <td>NGT</td>\n",
       "    </tr>\n",
       "    <tr>\n",
       "      <th>1</th>\n",
       "      <td>Peptide_27</td>\n",
       "      <td>0.107320</td>\n",
       "      <td>NGT</td>\n",
       "    </tr>\n",
       "    <tr>\n",
       "      <th>2</th>\n",
       "      <td>Peptide_27</td>\n",
       "      <td>0.069191</td>\n",
       "      <td>NGT</td>\n",
       "    </tr>\n",
       "    <tr>\n",
       "      <th>3</th>\n",
       "      <td>Peptide_27</td>\n",
       "      <td>0.224675</td>\n",
       "      <td>NGT</td>\n",
       "    </tr>\n",
       "    <tr>\n",
       "      <th>4</th>\n",
       "      <td>Peptide_27</td>\n",
       "      <td>0.442632</td>\n",
       "      <td>NGT</td>\n",
       "    </tr>\n",
       "  </tbody>\n",
       "</table>\n",
       "</div>"
      ],
      "text/plain": [
       "     variable     value class\n",
       "0  Peptide_27  0.085856   NGT\n",
       "1  Peptide_27  0.107320   NGT\n",
       "2  Peptide_27  0.069191   NGT\n",
       "3  Peptide_27  0.224675   NGT\n",
       "4  Peptide_27  0.442632   NGT"
      ]
     },
     "execution_count": 41,
     "metadata": {},
     "output_type": "execute_result"
    }
   ],
   "source": [
    "NGT = pd.melt(df_norm[df_norm['Class'] == 0],value_vars=df_norm.columns[:-1])\n",
    "NGT['class'] = \"NGT\"\n",
    "NGT.head()"
   ]
  },
  {
   "cell_type": "code",
   "execution_count": 42,
   "metadata": {},
   "outputs": [
    {
     "data": {
      "text/html": [
       "<div>\n",
       "<style>\n",
       "    .dataframe thead tr:only-child th {\n",
       "        text-align: right;\n",
       "    }\n",
       "\n",
       "    .dataframe thead th {\n",
       "        text-align: left;\n",
       "    }\n",
       "\n",
       "    .dataframe tbody tr th {\n",
       "        vertical-align: top;\n",
       "    }\n",
       "</style>\n",
       "<table border=\"1\" class=\"dataframe\">\n",
       "  <thead>\n",
       "    <tr style=\"text-align: right;\">\n",
       "      <th></th>\n",
       "      <th>variable</th>\n",
       "      <th>value</th>\n",
       "      <th>class</th>\n",
       "    </tr>\n",
       "  </thead>\n",
       "  <tbody>\n",
       "    <tr>\n",
       "      <th>0</th>\n",
       "      <td>Peptide_27</td>\n",
       "      <td>0.090917</td>\n",
       "      <td>T2D</td>\n",
       "    </tr>\n",
       "    <tr>\n",
       "      <th>1</th>\n",
       "      <td>Peptide_27</td>\n",
       "      <td>0.897478</td>\n",
       "      <td>T2D</td>\n",
       "    </tr>\n",
       "    <tr>\n",
       "      <th>2</th>\n",
       "      <td>Peptide_27</td>\n",
       "      <td>0.357997</td>\n",
       "      <td>T2D</td>\n",
       "    </tr>\n",
       "    <tr>\n",
       "      <th>3</th>\n",
       "      <td>Peptide_27</td>\n",
       "      <td>0.695838</td>\n",
       "      <td>T2D</td>\n",
       "    </tr>\n",
       "    <tr>\n",
       "      <th>4</th>\n",
       "      <td>Peptide_27</td>\n",
       "      <td>0.287148</td>\n",
       "      <td>T2D</td>\n",
       "    </tr>\n",
       "  </tbody>\n",
       "</table>\n",
       "</div>"
      ],
      "text/plain": [
       "     variable     value class\n",
       "0  Peptide_27  0.090917   T2D\n",
       "1  Peptide_27  0.897478   T2D\n",
       "2  Peptide_27  0.357997   T2D\n",
       "3  Peptide_27  0.695838   T2D\n",
       "4  Peptide_27  0.287148   T2D"
      ]
     },
     "execution_count": 42,
     "metadata": {},
     "output_type": "execute_result"
    }
   ],
   "source": [
    "T2D = pd.melt(df_norm[df_norm['Class'] == 1],value_vars=df_norm.columns[:-1])\n",
    "T2D['class'] = \"T2D\"\n",
    "T2D.head()"
   ]
  },
  {
   "cell_type": "code",
   "execution_count": 43,
   "metadata": {},
   "outputs": [
    {
     "data": {
      "text/html": [
       "<div>\n",
       "<style>\n",
       "    .dataframe thead tr:only-child th {\n",
       "        text-align: right;\n",
       "    }\n",
       "\n",
       "    .dataframe thead th {\n",
       "        text-align: left;\n",
       "    }\n",
       "\n",
       "    .dataframe tbody tr th {\n",
       "        vertical-align: top;\n",
       "    }\n",
       "</style>\n",
       "<table border=\"1\" class=\"dataframe\">\n",
       "  <thead>\n",
       "    <tr style=\"text-align: right;\">\n",
       "      <th></th>\n",
       "      <th>variable</th>\n",
       "      <th>value</th>\n",
       "      <th>class</th>\n",
       "    </tr>\n",
       "  </thead>\n",
       "  <tbody>\n",
       "    <tr>\n",
       "      <th>0</th>\n",
       "      <td>Peptide_27</td>\n",
       "      <td>0.090917</td>\n",
       "      <td>T2D</td>\n",
       "    </tr>\n",
       "    <tr>\n",
       "      <th>1</th>\n",
       "      <td>Peptide_27</td>\n",
       "      <td>0.897478</td>\n",
       "      <td>T2D</td>\n",
       "    </tr>\n",
       "    <tr>\n",
       "      <th>2</th>\n",
       "      <td>Peptide_27</td>\n",
       "      <td>0.357997</td>\n",
       "      <td>T2D</td>\n",
       "    </tr>\n",
       "    <tr>\n",
       "      <th>3</th>\n",
       "      <td>Peptide_27</td>\n",
       "      <td>0.695838</td>\n",
       "      <td>T2D</td>\n",
       "    </tr>\n",
       "    <tr>\n",
       "      <th>4</th>\n",
       "      <td>Peptide_27</td>\n",
       "      <td>0.287148</td>\n",
       "      <td>T2D</td>\n",
       "    </tr>\n",
       "  </tbody>\n",
       "</table>\n",
       "</div>"
      ],
      "text/plain": [
       "     variable     value class\n",
       "0  Peptide_27  0.090917   T2D\n",
       "1  Peptide_27  0.897478   T2D\n",
       "2  Peptide_27  0.357997   T2D\n",
       "3  Peptide_27  0.695838   T2D\n",
       "4  Peptide_27  0.287148   T2D"
      ]
     },
     "execution_count": 43,
     "metadata": {},
     "output_type": "execute_result"
    }
   ],
   "source": [
    "plot_df = pd.concat([T2D,NGT])\n",
    "plot_df.head()"
   ]
  },
  {
   "cell_type": "code",
   "execution_count": 48,
   "metadata": {},
   "outputs": [
    {
     "data": {
      "text/plain": [
       "<matplotlib.axes._subplots.AxesSubplot at 0x7fd16ab859d0>"
      ]
     },
     "execution_count": 48,
     "metadata": {},
     "output_type": "execute_result"
    },
    {
     "data": {
      "image/png": "[encoded data removed]",
      "text/plain": [
       "<matplotlib.figure.Figure at 0x7fd17126d0d0>"
      ]
     },
     "metadata": {},
     "output_type": "display_data"
    }
   ],
   "source": [
    "\n",
    "sns.boxplot(y='variable',x='value',hue='class',data=plot_df)\n"
   ]
  },
  {
   "cell_type": "code",
   "execution_count": null,
   "metadata": {
    "collapsed": true
   },
   "outputs": [],
   "source": []
  },
  {
   "cell_type": "code",
   "execution_count": null,
   "metadata": {
    "collapsed": true
   },
   "outputs": [],
   "source": []
  }
 ],
 "metadata": {
  "kernelspec": {
   "display_name": "Python 2",
   "language": "python",
   "name": "python2"
  },
  "language_info": {
   "codemirror_mode": {
    "name": "ipython",
    "version": 2
   },
   "file_extension": ".py",
   "mimetype": "text/x-python",
   "name": "python",
   "nbconvert_exporter": "python",
   "pygments_lexer": "ipython2",
   "version": "2.7.6"
  }
 },
 "nbformat": 4,
 "nbformat_minor": 2
}
